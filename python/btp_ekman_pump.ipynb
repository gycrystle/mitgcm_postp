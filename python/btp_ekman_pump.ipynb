{
 "cells": [
  {
   "cell_type": "code",
   "execution_count": 1,
   "metadata": {
    "collapsed": true
   },
   "outputs": [],
   "source": [
    "\"\"\"\n",
    "Compute \n",
    "W_ekman : model produced Ekman pumping from ek transport divergence\n",
    "W_stern : Theoretical nonlinear Ekman pumping, Stern, 1965\n",
    "W_wt    : Theoretical nonlinear Ekman pumping w/ curvature, Wenegrat & Thomas, 2017\n",
    "\n",
    "\"\"\"\n",
    "\n",
    "import numpy as np\n",
    "import MITgcmutils as mit\n",
    "from MITgcmutils import rdmds\n",
    "import matplotlib.pyplot as plt\n",
    "from scipy import interpolate\n",
    "from matplotlib import cm\n",
    "import matplotlib.colors as colors\n",
    "from mpl_toolkits.axes_grid1 import make_axes_locatable\n",
    "\n",
    "plt.ion()\n",
    "\n",
    "# Set default fontsizes for plots\n",
    "SMALL_SIZE = 10\n",
    "MEDIUM_SIZE = 12\n",
    "BIGGER_SIZE = 14\n",
    "\n",
    "plt.rc('font', size=SMALL_SIZE)          # controls default text sizes\n",
    "plt.rc('axes', titlesize=SMALL_SIZE)     # fontsize of the axes title\n",
    "plt.rc('axes', labelsize=SMALL_SIZE)    # fontsize of the x and y labels\n",
    "plt.rc('xtick', labelsize=SMALL_SIZE)    # fontsize of the tick labels\n",
    "plt.rc('ytick', labelsize=SMALL_SIZE)    # fontsize of the tick labels\n",
    "plt.rc('legend', fontsize=SMALL_SIZE)    # legend fontsize\n",
    "plt.rc('figure', titlesize=BIGGER_SIZE)  # fontsize of the figure title\n"
   ]
  },
  {
   "cell_type": "code",
   "execution_count": null,
   "metadata": {
    "collapsed": true
   },
   "outputs": [],
   "source": [
    "def center_of_mass(X):\n",
    "    # calculate center of mass of a closed polygon\n",
    "    x = X[:,0]\n",
    "    y = X[:,1]\n",
    "    g = (x[:-1]*y[1:] - x[1:]*y[:-1])\n",
    "    A = 0.5*g.sum()\n",
    "    cx = ((x[:-1] + x[1:])*g).sum()\n",
    "    cy = ((y[:-1] + y[1:])*g).sum()\n",
    "    return 1./(6*A)*np.array([cx,cy])\n",
    "\n",
    "def vorticity(U,V,dXC,dYC):\n",
    "    nx = U[0,:].size\n",
    "    ny = U[:,0].size\n",
    "    dyU = np.zeros((ny,nx));\n",
    "    dxV = np.zeros((ny,nx));\n",
    "    zeta = np.zeros((ny,nx));\n",
    "    for i in range(1,nx):\n",
    "        for j in range(1,ny):\n",
    "            dyU[j,i] = (U[j,i]-U[j-1,i])/dYC[j,i];\n",
    "            dxV[j,i] = (V[j,i]-V[j,i-1])/dXC[j,i];\n",
    "            zeta[j,i] = dxV[j,i]-dyU[j,i];\n",
    "    return zeta\n",
    "\n",
    "def radial_prof(data, r):\n",
    "    uniq = np.unique(r)\n",
    "    prof = np.array([ np.mean(data[ r==un ]) for un in uniq ])\n",
    "    return uniq, prof"
   ]
  },
  {
   "cell_type": "code",
   "execution_count": null,
   "metadata": {
    "collapsed": true
   },
   "outputs": [],
   "source": [
    "# Set default fontsizes for plots\n",
    "SMALL_SIZE = 10\n",
    "MEDIUM_SIZE = 12\n",
    "BIGGER_SIZE = 14\n",
    "\n",
    "plt.rc('font', size=SMALL_SIZE)          # controls default text sizes\n",
    "plt.rc('axes', titlesize=SMALL_SIZE)     # fontsize of the axes title\n",
    "plt.rc('axes', labelsize=SMALL_SIZE)    # fontsize of the x and y labels\n",
    "plt.rc('xtick', labelsize=SMALL_SIZE)    # fontsize of the tick labels\n",
    "plt.rc('ytick', labelsize=SMALL_SIZE)    # fontsize of the tick labels\n",
    "plt.rc('legend', fontsize=SMALL_SIZE)    # legend fontsize\n",
    "plt.rc('figure', titlesize=BIGGER_SIZE)  # fontsize of the figure title\n",
    "\n",
    "#"
   ]
  }
 ],
 "metadata": {
  "kernelspec": {
   "display_name": "Python 3",
   "language": "python",
   "name": "python3"
  },
  "language_info": {
   "codemirror_mode": {
    "name": "ipython",
    "version": 3
   },
   "file_extension": ".py",
   "mimetype": "text/x-python",
   "name": "python",
   "nbconvert_exporter": "python",
   "pygments_lexer": "ipython3",
   "version": "3.5.2"
  }
 },
 "nbformat": 4,
 "nbformat_minor": 0
}
